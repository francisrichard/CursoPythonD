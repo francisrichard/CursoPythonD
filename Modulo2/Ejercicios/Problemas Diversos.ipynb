{
 "cells": [
  {
   "cell_type": "markdown",
   "metadata": {},
   "source": [
    "# PROBLEMAS DIVERSOS"
   ]
  },
  {
   "cell_type": "markdown",
   "metadata": {},
   "source": [
    "<h3>1.</h3>\n",
    "Realizar una función que permita la carga de n alumnos. Por cada alumno se deberá preguntar el nombre completo y permitir el ingreso de 3 notas. Las notas deben estar comprendidas entre 0 y 10. Devolver el listado de alumnos."
   ]
  },
  {
   "cell_type": "code",
   "execution_count": null,
   "metadata": {},
   "outputs": [],
   "source": [
    "alumnos=[]\n",
    "num=int(input(\"Ingrese el número de alumnos \"))"
   ]
  },
  {
   "cell_type": "code",
   "execution_count": null,
   "metadata": {},
   "outputs": [],
   "source": [
    "listado_alumnos=[]\n",
    "for i in range(num):\n",
    "    nomb=input(\"Ingrese el nombre completo del alumno: \")\n",
    "    while True:\n",
    "        try:\n",
    "            nota1=int(input(\"Ingrese la nota 1 del alumno \"))\n",
    "        except ValueError:\n",
    "            print(\"Debes escribir un número.\")\n",
    "            continue\n",
    "        if 0 < nota1 < 11:\n",
    "            break\n",
    "    while True:\n",
    "        try:\n",
    "            nota2=int(input(\"Ingrese la nota 2 del alumno \"))\n",
    "        except ValueError:\n",
    "            print(\"Debes escribir un número.\")\n",
    "            continue\n",
    "        if 0 < nota2 < 11:\n",
    "            break\n",
    "    while True:\n",
    "        try:    \n",
    "            nota3=int(input(\"Ingrese la nota 3 del alumno \"))\n",
    "        except ValueError:\n",
    "            print(\"Debes escribir un número.\")\n",
    "            continue\n",
    "        if 0 < nota3 < 11:\n",
    "            break\n",
    "    alumnos={'nombre':nomb,'notas':[nota1,nota2,nota3]}\n",
    "    listado_alumnos.append(alumnos)"
   ]
  },
  {
   "cell_type": "code",
   "execution_count": null,
   "metadata": {},
   "outputs": [],
   "source": [
    "listado_alumnos"
   ]
  },
  {
   "cell_type": "markdown",
   "metadata": {},
   "source": [
    "### 2.\n",
    "Definir una función que dado un listado de alumnos evalúe cuántos aprobaron y cuántos desaprobaron, teniendo en cuenta que se aprueba con 4. La nota será el promedio de las 3 notas para cada alumno."
   ]
  },
  {
   "cell_type": "code",
   "execution_count": 9,
   "metadata": {},
   "outputs": [
    {
     "name": "stdout",
     "output_type": "stream",
     "text": [
      "francis DESAPROBADO\n",
      "marco APROBADO\n",
      "atalaya APROBADO\n",
      "Los alumnos aprobados son 2 alumnos reprobados son 1\n"
     ]
    }
   ],
   "source": [
    "paso = 0\n",
    "npaso = 0\n",
    "\n",
    "for persona in listado_alumnos:    \n",
    "    if sum(persona['notas'])/3 >= 4:\n",
    "        paso += 1\n",
    "        print(persona['nombre'],\"APROBADO\")\n",
    "    else:\n",
    "        npaso += 1\n",
    "        print(persona['nombre'],\"DESAPROBADO\")\n",
    "\n",
    "print(F\"Los alumnos aprobados son {paso} alumnos reprobados son {npaso}\")"
   ]
  },
  {
   "cell_type": "markdown",
   "metadata": {},
   "source": [
    "### 3.\n",
    "Informar el promedio de nota del curso total."
   ]
  },
  {
   "cell_type": "code",
   "execution_count": 10,
   "metadata": {},
   "outputs": [
    {
     "name": "stdout",
     "output_type": "stream",
     "text": [
      "francis 2.0\n",
      "marco 5.0\n",
      "atalaya 8.0\n"
     ]
    }
   ],
   "source": [
    "for persona in listado_alumnos:\n",
    "    print(persona['nombre'], sum(persona['notas'])/3)"
   ]
  },
  {
   "cell_type": "code",
   "execution_count": null,
   "metadata": {},
   "outputs": [],
   "source": []
  },
  {
   "cell_type": "markdown",
   "metadata": {},
   "source": [
    "### 4.\n",
    "Realizar una función que indique quién tuvo el promedio más alto y quién tuvo la nota promedio más baja."
   ]
  },
  {
   "cell_type": "code",
   "execution_count": null,
   "metadata": {},
   "outputs": [],
   "source": []
  },
  {
   "cell_type": "code",
   "execution_count": null,
   "metadata": {},
   "outputs": [],
   "source": []
  },
  {
   "cell_type": "code",
   "execution_count": null,
   "metadata": {},
   "outputs": [],
   "source": []
  },
  {
   "cell_type": "markdown",
   "metadata": {},
   "source": [
    "### 5.\n",
    "Realizar una función que permita buscar un alumno por nombre, siendo el nombre completo o parcial, y devuelva una lista con los n alumnos que concuerden con ese nombre junto con todos sus datos, incluido el promedio de sus notas."
   ]
  },
  {
   "cell_type": "code",
   "execution_count": 2,
   "metadata": {},
   "outputs": [],
   "source": [
    "def cargaralumnos(self, listado_alumnos):\n",
    "        notas = []\n",
    "        for i in range(self.num):\n",
    "            nombre=input(f\"Ingrese el nombre completo del alumno {i+1}: \")\n",
    "            for n in range(3):\n",
    "                while True:\n",
    "                    try:\n",
    "                        nota = float(input(f\"Ingrese la nota {n+1} del alumno: \"))\n",
    "                        if nota >= 0 and nota <= 10:\n",
    "                            notas.append(nota)\n",
    "                            break\n",
    "                        else:\n",
    "                            print(\"La nota debe estar comprendida entre 0 y 10\")\n",
    "                    except:\n",
    "                        print(\"Ingrese un número valido\")\n",
    "            alumno = {'nombre' : nombre, 'notas' : [notas[0], notas[1], notas[2]]}\n",
    "            notas.clear()\n",
    "            listado_alumnos.append(alumno)"
   ]
  },
  {
   "cell_type": "code",
   "execution_count": null,
   "metadata": {},
   "outputs": [],
   "source": []
  },
  {
   "cell_type": "code",
   "execution_count": null,
   "metadata": {},
   "outputs": [],
   "source": []
  },
  {
   "cell_type": "code",
   "execution_count": null,
   "metadata": {},
   "outputs": [],
   "source": []
  },
  {
   "cell_type": "code",
   "execution_count": null,
   "metadata": {},
   "outputs": [],
   "source": []
  },
  {
   "cell_type": "code",
   "execution_count": null,
   "metadata": {},
   "outputs": [],
   "source": []
  }
 ],
 "metadata": {
  "kernelspec": {
   "display_name": "Python 3",
   "language": "python",
   "name": "python3"
  },
  "language_info": {
   "codemirror_mode": {
    "name": "ipython",
    "version": 3
   },
   "file_extension": ".py",
   "mimetype": "text/x-python",
   "name": "python",
   "nbconvert_exporter": "python",
   "pygments_lexer": "ipython3",
   "version": "3.8.5"
  }
 },
 "nbformat": 4,
 "nbformat_minor": 4
}
