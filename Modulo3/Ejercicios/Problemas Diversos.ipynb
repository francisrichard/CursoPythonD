{
 "cells": [
  {
   "cell_type": "markdown",
   "metadata": {},
   "source": [
    "# PROBLEMAS DIVERSOS"
   ]
  },
  {
   "cell_type": "markdown",
   "metadata": {},
   "source": [
    "<h3>1.</h3>\n",
    "Realizar una función que permita la carga de n alumnos. Por cada alumno se deberá preguntar el nombre completo y permitir el ingreso de 3 notas. Las notas deben estar comprendidas entre 0 y 10. Devolver el listado de alumnos."
   ]
  },
  {
   "cell_type": "code",
   "execution_count": 10,
   "metadata": {},
   "outputs": [],
   "source": [
    "Cantidad=0\n",
    "Lista_Alumno= list()\n",
    "def register_nota(nota_d):\n",
    "    while True:\n",
    "        nota=int(input(f\"Ingrese la nota {nota_d}: \"))\n",
    "        if nota>=0 and nota<=10:\n",
    "            return nota\n",
    "        else: \n",
    "            print (\"Nota fuera de rango\")\n",
    "def datos_alumnos():\n",
    "    for contador in range(Cantidad):\n",
    "        Alumno = {\n",
    "        'Nombre':'',\n",
    "        'Notas':[0,0,0],\n",
    "        'Promedio':0\n",
    "        }\n",
    "        Alumno['Nombre']=input('Ingrese nombre del alumno: ')\n",
    "        Alumno['Notas'][0]=register_nota(1)\n",
    "        Alumno['Notas'][1]=register_nota(2)\n",
    "        Alumno['Notas'][2]=register_nota(3)\n",
    "        Lista_Alumno.append(Alumno)\n"
   ]
  },
  {
   "cell_type": "markdown",
   "metadata": {},
   "source": [
    "### 2.\n",
    "Definir una función que dado un listado de alumnos evalúe cuántos aprobaron y cuántos desaprobaron, teniendo en cuenta que se aprueba con 4. La nota será el promedio de las 3 notas para cada alumno."
   ]
  },
  {
   "cell_type": "code",
   "execution_count": 11,
   "metadata": {},
   "outputs": [],
   "source": [
    "def apro_repro():\n",
    "    aprobados=0\n",
    "    desaprobados=0\n",
    "    total=0\n",
    "    for i in range(Cantidad):\n",
    "        Alumno=Lista_Alumno[i]\n",
    "        p = sum(Alumno['Notas'])/len(Alumno['Notas'])\n",
    "        Alumno['Promedio']=p\n",
    "        total+=p\n",
    "        if p < 4:\n",
    "            desaprobados +=1\n",
    "        else:\n",
    "            aprobados +=1\n",
    "    print(f\"La cantidad de alumnos aprobados es {aprobados} y desaprobados es {desaprobados}\")\n",
    "    print(f\"El promedio de las notas es {total/Cantidad}\")"
   ]
  },
  {
   "cell_type": "markdown",
   "metadata": {},
   "source": [
    "### 3.\n",
    "Informar el promedio de nota del curso total."
   ]
  },
  {
   "cell_type": "code",
   "execution_count": 12,
   "metadata": {},
   "outputs": [],
   "source": [
    "\n",
    "def Promedio(prom):\n",
    "    return prom['Promedio']\n"
   ]
  },
  {
   "cell_type": "code",
   "execution_count": 13,
   "metadata": {},
   "outputs": [],
   "source": [
    "def apro_repro():\n",
    "    aprobados=0\n",
    "    desaprobados=0\n",
    "    total=0\n",
    "    for i in range(Cantidad):\n",
    "        Alumno=Lista_Alumno[i]\n",
    "        p = sum(Alumno['Notas'])/len(Alumno['Notas'])\n",
    "        Alumno['Promedio']=p\n",
    "        total+=p\n",
    "        if p < 4:\n",
    "            desaprobados +=1\n",
    "        else:\n",
    "            aprobados +=1\n",
    "    print(f\"La cantidad de alumnos aprobados es {aprobados} y desaprobados es {desaprobados}\")\n",
    "    print(f\"El promedio de las notas es {total/Cantidad}\")\n"
   ]
  },
  {
   "cell_type": "code",
   "execution_count": null,
   "metadata": {},
   "outputs": [],
   "source": []
  },
  {
   "cell_type": "markdown",
   "metadata": {},
   "source": [
    "### 4.\n",
    "Realizar una función que indique quién tuvo el promedio más alto y quién tuvo la nota promedio más baja."
   ]
  },
  {
   "cell_type": "code",
   "execution_count": 14,
   "metadata": {},
   "outputs": [],
   "source": [
    "def mayor_menor():\n",
    "    Lista_sort=sorted(Lista_Alumno, key=Promedio)\n",
    "    print(\"El mayor promedio fue el alumno : \" + Lista_sort[-1]['Nombre'])\n",
    "    print(\"El menor promedio fue el alumno : \" + Lista_sort[0]['Nombre'])"
   ]
  },
  {
   "cell_type": "code",
   "execution_count": null,
   "metadata": {},
   "outputs": [],
   "source": []
  },
  {
   "cell_type": "code",
   "execution_count": null,
   "metadata": {},
   "outputs": [],
   "source": []
  },
  {
   "cell_type": "markdown",
   "metadata": {},
   "source": [
    "### 5.\n",
    "Realizar una función que permita buscar un alumno por nombre, siendo el nombre completo o parcial, y devuelva una lista con los n alumnos que concuerden con ese nombre junto con todos sus datos, incluido el promedio de sus notas."
   ]
  },
  {
   "cell_type": "code",
   "execution_count": 15,
   "metadata": {},
   "outputs": [
    {
     "name": "stdin",
     "output_type": "stream",
     "text": [
      "Ingrese la cantidad de alumnos del curso:  3\n"
     ]
    },
    {
     "name": "stdout",
     "output_type": "stream",
     "text": [
      "\n",
      "1. Registro de datos de los alumnos\n"
     ]
    },
    {
     "name": "stdin",
     "output_type": "stream",
     "text": [
      "Ingrese nombre del alumno:  francis\n",
      "Ingrese la nota 1:  1\n",
      "Ingrese la nota 2:  2\n",
      "Ingrese la nota 3:  3\n",
      "Ingrese nombre del alumno:  marco\n",
      "Ingrese la nota 1:  4\n",
      "Ingrese la nota 2:  5\n",
      "Ingrese la nota 3:  6\n",
      "Ingrese nombre del alumno:  atalaya\n",
      "Ingrese la nota 1:  7\n",
      "Ingrese la nota 2:  8\n",
      "Ingrese la nota 3:  9\n"
     ]
    },
    {
     "name": "stdout",
     "output_type": "stream",
     "text": [
      "\n",
      "2. Alumnos aprobados y desaprobados\n",
      "La cantidad de alumnos aprobados es 2 y desaprobados es 1\n",
      "El promedio de las notas es 5.0\n",
      "\n",
      "3. Alumnos mayor y menor promedio\n",
      "El mayor promedio fue el alumno : atalaya\n",
      "El menor promedio fue el alumno : francis\n",
      "\n",
      "4. Buscar alumnos\n"
     ]
    },
    {
     "name": "stdin",
     "output_type": "stream",
     "text": [
      "Buscar alumno (Nombre):  francis\n"
     ]
    },
    {
     "name": "stdout",
     "output_type": "stream",
     "text": [
      "Alumnos con el nombre digitado :\n",
      "[{'Nombre': 'francis', 'Notas': [1, 2, 3], 'Promedio': 2.0}]\n"
     ]
    }
   ],
   "source": [
    "def buscar():\n",
    "    buscar_alumno=input('Buscar alumno (Nombre): ')\n",
    "    busqueda=list([alumno for alumno in Lista_Alumno if alumno['Nombre'].upper().find(buscar_alumno.upper())>=0])\n",
    "    if len(busqueda)>0:\n",
    "        print(\"Alumnos con el nombre digitado :\")\n",
    "        print(busqueda)\n",
    "    else:\n",
    "        print(\"Cero coincidencias\")\n",
    "\n",
    "if __name__ == \"__main__\":\n",
    "    Cantidad=int(input('Ingrese la cantidad de alumnos del curso: '))\n",
    "    print(\"\\n1. Registro de datos de los alumnos\")\n",
    "    datos_alumnos()\n",
    "    print(\"\\n2. Alumnos aprobados y desaprobados\")\n",
    "    apro_repro()\n",
    "    print(\"\\n3. Alumnos mayor y menor promedio\")\n",
    "    mayor_menor()\n",
    "    print(\"\\n4. Buscar alumnos\")\n",
    "    buscar()"
   ]
  },
  {
   "cell_type": "code",
   "execution_count": null,
   "metadata": {},
   "outputs": [],
   "source": []
  },
  {
   "cell_type": "code",
   "execution_count": null,
   "metadata": {},
   "outputs": [],
   "source": []
  },
  {
   "cell_type": "code",
   "execution_count": null,
   "metadata": {},
   "outputs": [],
   "source": []
  },
  {
   "cell_type": "code",
   "execution_count": null,
   "metadata": {},
   "outputs": [],
   "source": []
  },
  {
   "cell_type": "code",
   "execution_count": null,
   "metadata": {},
   "outputs": [],
   "source": []
  }
 ],
 "metadata": {
  "kernelspec": {
   "display_name": "Python 3",
   "language": "python",
   "name": "python3"
  },
  "language_info": {
   "codemirror_mode": {
    "name": "ipython",
    "version": 3
   },
   "file_extension": ".py",
   "mimetype": "text/x-python",
   "name": "python",
   "nbconvert_exporter": "python",
   "pygments_lexer": "ipython3",
   "version": "3.8.5"
  }
 },
 "nbformat": 4,
 "nbformat_minor": 4
}
