{
 "cells": [
  {
   "cell_type": "markdown",
   "metadata": {},
   "source": [
    "# PROBLEMAS DIVERSOS"
   ]
  },
  {
   "cell_type": "markdown",
   "metadata": {},
   "source": [
    "<h3>1.</h3>\n",
    "Escribí un programa que solicite al usuario ingresar la cantidad de kilómetros recorridos por una motocicleta y la cantidad de litros de combustible que consumió durante ese recorrido. Mostrar el consumo de combustible por kilómetro."
   ]
  },
  {
   "cell_type": "markdown",
   "metadata": {},
   "source": [
    "<code>Kilómetros recorridos: 260\n",
    "Litros de combustible gastados: 12.5\n",
    "El consumo por kilómetro es de 20.8<code>"
   ]
  },
  {
   "cell_type": "code",
   "execution_count": 1,
   "metadata": {},
   "outputs": [
    {
     "name": "stdin",
     "output_type": "stream",
     "text": [
      "Kilómetros recorridos: 260\n",
      "Litros de combustible gastados: 12.5\n"
     ]
    },
    {
     "name": "stdout",
     "output_type": "stream",
     "text": [
      "El consumo por kilómetro es de 20.8\n"
     ]
    }
   ],
   "source": [
    "kilometros=float(input(\"Kilómetros recorridos:\"))\n",
    "litros=float(input(\"Litros de combustible gastados:\"))\n",
    "print(\"El consumo por kilómetro es de\", kilometros/litros)"
   ]
  },
  {
   "cell_type": "markdown",
   "metadata": {},
   "source": [
    "### 2.\n",
    "Escriba un programa que pida los coeficientes de una ecuación de segundo grado <code>(a x² + b x + c = 0)</code> y escriba la solución.\n",
    "\n",
    "Se recuerda que una ecuación de segundo grado puede no tener solución, tener una solución única, tener dos soluciones o que todos los números sean solución."
   ]
  },
  {
   "cell_type": "markdown",
   "metadata": {},
   "source": [
    "<img src='https://i.pinimg.com/originals/d3/f7/01/d3f701528ad56ce0f5a98d7c91722fd7.png'>"
   ]
  },
  {
   "cell_type": "markdown",
   "metadata": {},
   "source": [
    "Su programa debe indicar:\n",
    "- En caso la ecuación cuadrática tenga solución real, su programa debe brindar la solución\n",
    "- En caso su ecuación no tenga solución real, su programa debe brindar un mensaje que diga \"Ecuación no presenta solución real\""
   ]
  },
  {
   "cell_type": "code",
   "execution_count": 1,
   "metadata": {},
   "outputs": [
    {
     "name": "stdout",
     "output_type": "stream",
     "text": [
      "soluciones de una ecuacion cuadratica\n"
     ]
    },
    {
     "name": "stdin",
     "output_type": "stream",
     "text": [
      "coeficiente cuadratico:  2\n",
      "coeficiente lineal:  3\n",
      "coeficiente constante:  1\n"
     ]
    },
    {
     "name": "stdout",
     "output_type": "stream",
     "text": [
      "1.0\n",
      "las soluciones son:\n",
      "-2.0\n",
      "-4.0\n"
     ]
    }
   ],
   "source": [
    "print('soluciones de una ecuacion cuadratica')\n",
    "#ingresar solo coeficientes reales\n",
    "#ecuación cuadratica: ax^2+bx+c\n",
    "a=float(input('coeficiente cuadratico: '))\n",
    "b=float(input('coeficiente lineal: '))\n",
    "c=float(input('coeficiente constante: '))\n",
    "d=b**2 - 4*a*c\n",
    "print(d)\n",
    "if d < 0:\n",
    "    print('la ecuación no tiene raices reales')\n",
    "elif d == 0:\n",
    "    x=-b/2*a\n",
    "    print('la solucion es: ')\n",
    "    print(x)\n",
    "else:\n",
    "    x1=(-b+d**0.5)/2*a\n",
    "    x2=(-b-d**0.5)/2*a\n",
    "    print('las soluciones son:')\n",
    "    print(x1)\n",
    "    print(x2)"
   ]
  },
  {
   "cell_type": "code",
   "execution_count": null,
   "metadata": {},
   "outputs": [],
   "source": []
  }
 ],
 "metadata": {
  "kernelspec": {
   "display_name": "Python 3",
   "language": "python",
   "name": "python3"
  },
  "language_info": {
   "codemirror_mode": {
    "name": "ipython",
    "version": 3
   },
   "file_extension": ".py",
   "mimetype": "text/x-python",
   "name": "python",
   "nbconvert_exporter": "python",
   "pygments_lexer": "ipython3",
   "version": "3.8.5"
  }
 },
 "nbformat": 4,
 "nbformat_minor": 4
}
